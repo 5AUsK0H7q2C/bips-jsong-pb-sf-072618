{
 "cells": [
  {
   "cell_type": "markdown",
   "metadata": {},
   "source": [
    "# Signalling BIP Readiness\n",
    "\n",
    "Signalling simply means the miner of a block has set a bit in the version field to say that they support something. BIP 8 and 9 discuss this, it allows the miners to let the network know they are ready for the change or not. The version field of a block is 32 bits long, and if the top 3 bits are set to '001', 29 bits are free to be used for signalling.\n",
    "\n",
    "After a certain start time defined for a particular proposal, miners can set the bit specified to signal their support. It is during this time that if at least a certain percentage of blocks are mined with the bit set in one difficulty retarget period (2016 blocks), specified as the threshold needed, that proposal becomes LOCKED_IN. Once it is locked in, it is ready to become active in the network. Locked in just means that it gained enough support to proceed.\n",
    "\n",
    "This can all be found in [BIP 9](https://github.com/bitcoin/bips/blob/master/bip-0009.mediawiki). \n",
    "\n",
    "[[Source](https://bitcoin.stackexchange.com/a/56928)]"
   ]
  },
  {
   "cell_type": "code",
   "execution_count": null,
   "metadata": {},
   "outputs": [],
   "source": [
    "from io import BytesIO\n",
    "from block import Block\n",
    "\n",
    "class Block(Block):\n",
    "\n",
    "    def bip9(self):\n",
    "        '''Returns whether this block is signaling readiness for BIP9'''\n",
    "        # BIP9 is signalled if the top 3 bits are 001\n",
    "        # remember version is 32 bytes so right shift 29 (>> 29) and see if\n",
    "        # that is 001\n",
    "        pass\n",
    "\n",
    "    def bip91(self):\n",
    "        '''Returns whether this block is signaling readiness for BIP91'''\n",
    "        # BIP91 is signalled if the 5th bit from the right is 1\n",
    "        # shift 4 bits to the right and see if the last bit is 1\n",
    "        pass\n",
    "\n",
    "    def bip141(self):\n",
    "        '''Returns whether this block is signaling readiness for BIP141'''\n",
    "        # BIP91 is signalled if the 2nd bit from the right is 1\n",
    "        # shift 1 bit to the right and see if the last bit is 1\n",
    "        pass"
   ]
  }
 ],
 "metadata": {
  "kernelspec": {
   "display_name": "Python 3",
   "language": "python",
   "name": "python3"
  },
  "language_info": {
   "codemirror_mode": {
    "name": "ipython",
    "version": 3
   },
   "file_extension": ".py",
   "mimetype": "text/x-python",
   "name": "python",
   "nbconvert_exporter": "python",
   "pygments_lexer": "ipython3",
   "version": "3.6.5"
  }
 },
 "nbformat": 4,
 "nbformat_minor": 2
}
